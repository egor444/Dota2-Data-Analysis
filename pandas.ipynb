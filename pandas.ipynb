{
 "cells": [
  {
   "cell_type": "code",
   "execution_count": 2,
   "metadata": {},
   "outputs": [],
   "source": [
    "import pandas as pd\n",
    "import numpy as np\n",
    "import scipy\n",
    "import json"
   ]
  },
  {
   "cell_type": "code",
   "execution_count": 4,
   "metadata": {},
   "outputs": [],
   "source": [
    "# Load the match data. These are my last 100 matches.\n",
    "df = pd.read_json('data/match_data.json')\n",
    "\n",
    "# Convert player dicts to DataFrames\n",
    "df[\"players\"] = df.apply(lambda row : pd.DataFrame(row[\"players\"]), axis=1)"
   ]
  },
  {
   "cell_type": "code",
   "execution_count": 17,
   "metadata": {},
   "outputs": [],
   "source": [
    "# WARNING: If you want to look for a specific player ID (like your own) in the match-dataset,\n",
    "#          DO NOT use the regular steam ID.\n",
    "#          The player IDs in the set are Steam32 (32-bit long) IDs, which you have to figure out first:\n",
    "#          https://steamid.xyz/\n",
    "with open(\"private/steam32.txt\",\"r\") as f:\n",
    "    STEAMID32 = int(f.readline()) "
   ]
  },
  {
   "cell_type": "code",
   "execution_count": 33,
   "metadata": {},
   "outputs": [
    {
     "data": {
      "text/plain": [
       "0        account_id  player_slot  team_number  team_...\n",
       "1        account_id  player_slot  team_number  team_...\n",
       "2        account_id  player_slot  team_number  team_...\n",
       "3        account_id  player_slot  team_number  team_...\n",
       "4        account_id  player_slot  team_number  team_...\n",
       "                            ...                        \n",
       "95       account_id  player_slot  team_number  team_...\n",
       "96       account_id  player_slot  team_number  team_...\n",
       "97       account_id  player_slot  team_number  team_...\n",
       "98       account_id  player_slot  team_number  team_...\n",
       "99       account_id  player_slot  team_number  team_...\n",
       "Name: players, Length: 100, dtype: object"
      ]
     },
     "execution_count": 33,
     "metadata": {},
     "output_type": "execute_result"
    }
   ],
   "source": [
    "df[\"players\"]"
   ]
  }
 ],
 "metadata": {
  "kernelspec": {
   "display_name": "SciPy",
   "language": "python",
   "name": "python3"
  },
  "language_info": {
   "codemirror_mode": {
    "name": "ipython",
    "version": 3
   },
   "file_extension": ".py",
   "mimetype": "text/x-python",
   "name": "python",
   "nbconvert_exporter": "python",
   "pygments_lexer": "ipython3",
   "version": "3.9.17"
  },
  "orig_nbformat": 4
 },
 "nbformat": 4,
 "nbformat_minor": 2
}
