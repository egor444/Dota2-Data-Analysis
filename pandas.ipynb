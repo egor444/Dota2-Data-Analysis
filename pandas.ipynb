{
 "cells": [
  {
   "cell_type": "code",
   "execution_count": 2,
   "metadata": {},
   "outputs": [],
   "source": [
    "import pandas as pd\n",
    "import numpy as np\n",
    "import scipy\n",
    "import json"
   ]
  },
  {
   "cell_type": "code",
   "execution_count": 4,
   "metadata": {},
   "outputs": [],
   "source": [
    "# Load the match data. These are my last 100 matches.\n",
    "df = pd.read_json('data/match_data.json')\n",
    "\n",
    "# Convert player dicts to DataFrames\n",
    "df[\"players\"] = df.apply(lambda row : pd.DataFrame(row[\"players\"]), axis=1)"
   ]
  },
  {
   "cell_type": "code",
   "execution_count": 17,
   "metadata": {},
   "outputs": [],
   "source": [
    "# WARNING: If you want to look for a specific player ID (like your own) in the match-dataset,\n",
    "#          DO NOT use the regular steam ID.\n",
    "#          The player IDs in the set are Steam32 (32-bit long) IDs, which you have to figure out first:\n",
    "#          https://steamid.xyz/\n",
    "with open(\"private/steam32.txt\",\"r\") as f:\n",
    "    STEAMID32 = int(f.readline()) "
   ]
  },
  {
   "cell_type": "code",
   "execution_count": 155,
   "metadata": {},
   "outputs": [
    {
     "data": {
      "text/plain": [
       "[{'ability': 5014, 'time': 245, 'level': 1},\n",
       " {'ability': 5011, 'time': 446, 'level': 2},\n",
       " {'ability': 5011, 'time': 548, 'level': 3},\n",
       " {'ability': 5012, 'time': 693, 'level': 4},\n",
       " {'ability': 5011, 'time': 831, 'level': 5},\n",
       " {'ability': 5013, 'time': 952, 'level': 6},\n",
       " {'ability': 5011, 'time': 1079, 'level': 7},\n",
       " {'ability': 5014, 'time': 1165, 'level': 8},\n",
       " {'ability': 5014, 'time': 1258, 'level': 9},\n",
       " {'ability': 979, 'time': 1370, 'level': 10},\n",
       " {'ability': 5014, 'time': 1502, 'level': 11},\n",
       " {'ability': 5013, 'time': 1553, 'level': 12},\n",
       " {'ability': 5012, 'time': 1775, 'level': 13},\n",
       " {'ability': 5012, 'time': 1874, 'level': 14},\n",
       " {'ability': 779, 'time': 2080, 'level': 15},\n",
       " {'ability': 5012, 'time': 2121, 'level': 16},\n",
       " {'ability': 5013, 'time': 2621, 'level': 17}]"
      ]
     },
     "execution_count": 155,
     "metadata": {},
     "output_type": "execute_result"
    }
   ],
   "source": [
    "def filter_player_by_id(players):\n",
    "    return players[\"account_id\"] == STEAMID32\n",
    "\n",
    "def apply_filter_to_matches(m):\n",
    "    return m[m.apply(filter_player_by_id ,axis=1)]\n",
    "\n",
    "p_series = df[\"players\"].apply(filter2)\n",
    "\n",
    "pd.concat(p_series.to_list(), axis=0)[\"ability_upgrades\"].to_list()[0]\n"
   ]
  }
 ],
 "metadata": {
  "kernelspec": {
   "display_name": "SciPy",
   "language": "python",
   "name": "python3"
  },
  "language_info": {
   "codemirror_mode": {
    "name": "ipython",
    "version": 3
   },
   "file_extension": ".py",
   "mimetype": "text/x-python",
   "name": "python",
   "nbconvert_exporter": "python",
   "pygments_lexer": "ipython3",
   "version": "3.9.17"
  },
  "orig_nbformat": 4
 },
 "nbformat": 4,
 "nbformat_minor": 2
}
