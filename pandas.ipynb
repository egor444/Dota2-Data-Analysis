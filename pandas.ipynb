{
 "cells": [
  {
   "cell_type": "code",
   "execution_count": 2,
   "metadata": {},
   "outputs": [],
   "source": [
    "import pandas as pd\n",
    "import numpy as np\n",
    "import scipy\n",
    "import json"
   ]
  },
  {
   "cell_type": "code",
   "execution_count": 4,
   "metadata": {},
   "outputs": [],
   "source": [
    "# Load the match data. These are my last 100 matches.\n",
    "df = pd.read_json('data/match_data.json')\n",
    "\n",
    "# Convert player dicts to DataFrames\n",
    "df[\"players\"] = df.apply(lambda row : pd.DataFrame(row[\"players\"]), axis=1)"
   ]
  },
  {
   "cell_type": "code",
   "execution_count": 17,
   "metadata": {},
   "outputs": [],
   "source": [
    "# WARNING: If you want to look for a specific player ID (like your own) in the match-dataset,\n",
    "#          DO NOT use the regular steam ID.\n",
    "#          The player IDs in the set are Steam32 (32-bit long) IDs, which you have to figure out first:\n",
    "#          https://steamid.xyz/\n",
    "with open(\"private/steam32.txt\",\"r\") as f:\n",
    "    STEAMID32 = int(f.readline()) "
   ]
  },
  {
   "cell_type": "code",
   "execution_count": 60,
   "metadata": {},
   "outputs": [
    {
     "data": {
      "text/html": [
       "<div>\n",
       "<style scoped>\n",
       "    .dataframe tbody tr th:only-of-type {\n",
       "        vertical-align: middle;\n",
       "    }\n",
       "\n",
       "    .dataframe tbody tr th {\n",
       "        vertical-align: top;\n",
       "    }\n",
       "\n",
       "    .dataframe thead th {\n",
       "        text-align: right;\n",
       "    }\n",
       "</style>\n",
       "<table border=\"1\" class=\"dataframe\">\n",
       "  <thead>\n",
       "    <tr style=\"text-align: right;\">\n",
       "      <th></th>\n",
       "      <th>account_id</th>\n",
       "      <th>player_slot</th>\n",
       "      <th>team_number</th>\n",
       "      <th>team_slot</th>\n",
       "      <th>hero_id</th>\n",
       "      <th>item_0</th>\n",
       "      <th>item_1</th>\n",
       "      <th>item_2</th>\n",
       "      <th>item_3</th>\n",
       "      <th>item_4</th>\n",
       "      <th>...</th>\n",
       "      <th>moonshard</th>\n",
       "      <th>hero_damage</th>\n",
       "      <th>tower_damage</th>\n",
       "      <th>hero_healing</th>\n",
       "      <th>gold</th>\n",
       "      <th>gold_spent</th>\n",
       "      <th>scaled_hero_damage</th>\n",
       "      <th>scaled_tower_damage</th>\n",
       "      <th>scaled_hero_healing</th>\n",
       "      <th>ability_upgrades</th>\n",
       "    </tr>\n",
       "  </thead>\n",
       "  <tbody>\n",
       "    <tr>\n",
       "      <th>2</th>\n",
       "      <td>124961459</td>\n",
       "      <td>2</td>\n",
       "      <td>0</td>\n",
       "      <td>2</td>\n",
       "      <td>3</td>\n",
       "      <td>102</td>\n",
       "      <td>42</td>\n",
       "      <td>36</td>\n",
       "      <td>232</td>\n",
       "      <td>9</td>\n",
       "      <td>...</td>\n",
       "      <td>0</td>\n",
       "      <td>13531</td>\n",
       "      <td>0</td>\n",
       "      <td>192</td>\n",
       "      <td>545</td>\n",
       "      <td>9490</td>\n",
       "      <td>7757</td>\n",
       "      <td>0</td>\n",
       "      <td>183</td>\n",
       "      <td>[{'ability': 5014, 'time': 245, 'level': 1}, {...</td>\n",
       "    </tr>\n",
       "  </tbody>\n",
       "</table>\n",
       "<p>1 rows × 37 columns</p>\n",
       "</div>"
      ],
      "text/plain": [
       "   account_id  player_slot  team_number  team_slot  hero_id  item_0  item_1  \\\n",
       "2   124961459            2            0          2        3     102      42   \n",
       "\n",
       "   item_2  item_3  item_4  ...  moonshard  hero_damage  tower_damage  \\\n",
       "2      36     232       9  ...          0        13531             0   \n",
       "\n",
       "   hero_healing  gold  gold_spent  scaled_hero_damage  scaled_tower_damage  \\\n",
       "2           192   545        9490                7757                    0   \n",
       "\n",
       "   scaled_hero_healing                                   ability_upgrades  \n",
       "2                  183  [{'ability': 5014, 'time': 245, 'level': 1}, {...  \n",
       "\n",
       "[1 rows x 37 columns]"
      ]
     },
     "execution_count": 60,
     "metadata": {},
     "output_type": "execute_result"
    }
   ],
   "source": [
    "def filter_player_by_id(players):\n",
    "    return players[\"account_id\"] == STEAMID32\n",
    "\n",
    "def filter2(x):\n",
    "    return x[x.apply(filter_player_by_id,axis= 1)]\n",
    "\n",
    "\n",
    "df[\"players\"][0][df[\"players\"][0].apply(filter_player_by_id,axis=1)]\n"
   ]
  }
 ],
 "metadata": {
  "kernelspec": {
   "display_name": "SciPy",
   "language": "python",
   "name": "python3"
  },
  "language_info": {
   "codemirror_mode": {
    "name": "ipython",
    "version": 3
   },
   "file_extension": ".py",
   "mimetype": "text/x-python",
   "name": "python",
   "nbconvert_exporter": "python",
   "pygments_lexer": "ipython3",
   "version": "3.9.17"
  },
  "orig_nbformat": 4
 },
 "nbformat": 4,
 "nbformat_minor": 2
}
