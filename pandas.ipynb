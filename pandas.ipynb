{
 "cells": [
  {
   "cell_type": "code",
   "execution_count": 2,
   "metadata": {},
   "outputs": [],
   "source": [
    "import pandas as pd\n",
    "import numpy as np\n",
    "import scipy\n",
    "import json"
   ]
  },
  {
   "cell_type": "code",
   "execution_count": 162,
   "metadata": {},
   "outputs": [],
   "source": [
    "# Load the match data. These are my last 100 matches.\n",
    "df = pd.read_json('data/match_data.json')\n",
    "\n",
    "# Convert player dicts to DataFrames\n",
    "df[\"players\"] = df.apply(lambda row : pd.DataFrame(row[\"players\"]), axis=1)\n",
    "\n",
    "with open('data/ability_ids.json', 'r') as f:\n",
    "    ability_ids = json.load(f)"
   ]
  },
  {
   "cell_type": "code",
   "execution_count": 163,
   "metadata": {},
   "outputs": [],
   "source": [
    "# WARNING: If you want to look for a specific player ID (like your own) in the match-dataset,\n",
    "#          DO NOT use the regular steam ID.\n",
    "#          The player IDs in the set are Steam32 (32-bit long) IDs, which you have to figure out first:\n",
    "#          https://steamid.xyz/\n",
    "with open(\"private/steam32.txt\",\"r\") as f:\n",
    "    STEAMID32 = int(f.readline()) "
   ]
  },
  {
   "cell_type": "code",
   "execution_count": 227,
   "metadata": {},
   "outputs": [
    {
     "data": {
      "text/plain": [
       "True     58\n",
       "False    42\n",
       "dtype: int64"
      ]
     },
     "execution_count": 227,
     "metadata": {},
     "output_type": "execute_result"
    }
   ],
   "source": [
    "def filter_player_by_id(players):\n",
    "    return players[\"account_id\"] == STEAMID32 \n",
    "\n",
    "def get_team_by_player_id(match1pl):\n",
    "    return match1pl.loc[filter_player_by_id, \"team_number\"].to_list()[0]\n",
    "\n",
    "def apply_filter_to_matches(m):\n",
    "    return m[m.apply(filter_player_by_id ,axis=1)]\n",
    "\n",
    "myt_teams = df[\"players\"].apply(get_team_by_player_id)\n",
    "\n",
    "winning_teams = df[\"radiant_win\"].apply(lambda w : 0 if w else 1)\n",
    "\n",
    "comb = pd.concat([myt_teams, winning_teams], axis=1)\n",
    "\n",
    "# Winrate on last 100 games\n",
    "comb[[\"players\",\"radiant_win\"]].apply(lambda r : r[0]==r[1], axis = 1).value_counts()\n",
    "\n",
    "\n",
    "#p_series = df[\"players\"].apply(apply_filter_to_matches)\n",
    "#pd.concat(p_series.to_list(), axis=0)[\"ability_upgrades\"].to_list()[0]\n",
    "#pd.DataFrame(a)[\"ability\"].apply(lambda r : ability_ids[str(r)]).to_frame()\n",
    "\n",
    "#pd.concat(df[\"players\"].to_list(), axis=0)"
   ]
  }
 ],
 "metadata": {
  "kernelspec": {
   "display_name": "SciPy",
   "language": "python",
   "name": "python3"
  },
  "language_info": {
   "codemirror_mode": {
    "name": "ipython",
    "version": 3
   },
   "file_extension": ".py",
   "mimetype": "text/x-python",
   "name": "python",
   "nbconvert_exporter": "python",
   "pygments_lexer": "ipython3",
   "version": "3.9.17"
  },
  "orig_nbformat": 4
 },
 "nbformat": 4,
 "nbformat_minor": 2
}
